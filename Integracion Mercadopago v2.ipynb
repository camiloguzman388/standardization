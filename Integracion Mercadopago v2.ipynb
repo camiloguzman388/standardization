{
 "cells": [
  {
   "cell_type": "code",
   "execution_count": 1,
   "id": "78acc2c2-7907-4646-952f-edb752db5b31",
   "metadata": {},
   "outputs": [],
   "source": [
    "#import dictionary\n",
    "import json\n",
    "import pandas as pd\n",
    "\n",
    "# csv and json file path \n",
    "path_input='C:/Users/Andres Camilo Guzman/Documents/Trebol/MP/first50.json'\n",
    "path_output_json='C:/Users/Andres Camilo Guzman/Documents/Trebol/MP/result-first50.json'\n",
    "path_output_csv='C:/Users/Andres Camilo Guzman/Documents/Trebol/MP/result-first50.csv'\n",
    "\n",
    "#import json input as list\n",
    "with open(path_input, encoding=\"utf8\") as json_file:\n",
    "    all_results = json.load(json_file).get('results')\n",
    "\n",
    "#standardization dictionaries\n",
    "currency_dict = {'ARS':'ARS', 'BRL':'BRL', 'CLP':'CLP', 'MXN':'MXN', 'COP':'COP', 'PEN':'PEN', 'UYU':'UYU'}\n",
    "payment_status_dict={'pending':'pending', 'approved':'paid', 'authorized':'authorized', 'in_process':'unknown',\n",
    "                     'in_mediation':'unknown', 'rejected':'failed', 'cancelled':'canceled', 'refunded':'refunded',\n",
    "                     'charged_back':'charged_back'}\n",
    "payment_method_dict={'credit_card':'credit_card', 'account_money':'store_credit', 'atm':'cash', \n",
    "                     'prepaid_card':'prepaid_card','debit_card':'debit_card', 'ticket':'cash', \n",
    "                     'bank_transfer':'bank_transfer'}\n",
    "\n",
    "#standardization function\n",
    "def converter (results,dict_output):\n",
    "   \n",
    "    #is not an error when payer element exists in first level of trx dictionary\n",
    "    try:\n",
    "        # extract data from input dict and standardize \n",
    "        status=payment_status_dict.get(results.get('status'))\n",
    "        customerName=results.get('payer').get('email')\n",
    "        amount=results.get('transaction_amount')\n",
    "        currency=currency_dict.get(results.get('currency_id'))\n",
    "        dueDate=results.get('money_release_date')\n",
    "        createdDate=results.get('date_created')\n",
    "        source_modified_date=results.get('date_last_updated')\n",
    "        customerID=results.get('payer').get('id')\n",
    "        transactionId=results.get('id')\n",
    "        paymentMethod=payment_method_dict.get(results.get('payment_type_id'))\n",
    "        operatyonType=results.get('operation_type')\n",
    "        net_amount=results.get('transaction_details').get('net_received_amount')\n",
    "        if (status=='refunded'):\n",
    "            #create cashin trx\n",
    "            dict_name={'customerName':customerName, 'customerID':customerID}\n",
    "            dict_trx={'amount':amount, 'currency':currency, 'status':status, 'dueDate':dueDate, 'createdDate':createdDate,\n",
    "                    'source_modified_date':source_modified_date, 'customer':dict_name, 'paymentMethod':paymentMethod, 'operationType':operatyonType,'transactionID':transactionId,'net_amount':net_amount}\n",
    "            dict_output.append(dict_trx)\n",
    "            #get refund info\n",
    "            refunds_dict=results.get('refunds')[0]\n",
    "            amount_refund=refunds_dict.get('amount')\n",
    "            createdDate_refund=refunds_dict.get('date_created')\n",
    "            transactionID_refund=refunds_dict.get('id')\n",
    "            status_refund=payment_status_dict.get(refunds_dict.get('status'))\n",
    "            #create refund trx\n",
    "            dict_trx={'amount':-amount_refund, 'currency':currency, 'status':status_refund, 'dueDate':'NaN', 'createdDate':createdDate_refund,\n",
    "                    'source_modified_date':'NaN', 'customer':dict_name, 'paymentMethod':paymentMethod, 'operationType':operatyonType,'transactionID':transactionID_refund,'net_amount':'NaN'}\n",
    "            dict_output.append(dict_trx)\n",
    "        else:    \n",
    "            # create output dict\n",
    "            dict_name={'customerName':customerName, 'customerID':customerID}\n",
    "            dict_trx={'amount':amount, 'currency':currency, 'status':status, 'dueDate':dueDate, 'createdDate':createdDate,\n",
    "                    'source_modified_date':source_modified_date, 'customer':dict_name, 'paymentMethod':paymentMethod, 'operationType':operatyonType,'transactionID':transactionId,'net_amount':net_amount}\n",
    "            dict_output.append(dict_trx)\n",
    "        return dict_output\n",
    "    #if not found catch error and return output_dict unchanged\n",
    "    except:\n",
    "        return dict_output\n",
    "\n",
    "# declare output list of dicts\n",
    "dict_output=[]\n",
    "\n",
    "#iterate over trx list to standardize \n",
    "for i in range(0,len(all_results)-1):\n",
    "    dict_output=converter(all_results[i], dict_output)\n",
    "\n",
    "# dump output dict into json file\n",
    "with open(path_output_json, 'w') as fp:\n",
    "    json.dump(dict_output, fp)"
   ]
  },
  {
   "cell_type": "code",
   "execution_count": 2,
   "metadata": {},
   "outputs": [],
   "source": [
    "df_output=pd.read_json(path_output_json)"
   ]
  },
  {
   "cell_type": "code",
   "execution_count": null,
   "metadata": {},
   "outputs": [],
   "source": [
    "df_output.to_csv(path_output_csv)"
   ]
  },
  {
   "cell_type": "code",
   "execution_count": 6,
   "metadata": {},
   "outputs": [
    {
     "data": {
      "text/plain": [
       "Index(['amount', 'currency', 'status', 'dueDate', 'createdDate',\n",
       "       'source_modified_date', 'customer', 'paymentMethod', 'operationType',\n",
       "       'transactionID', 'net_amount'],\n",
       "      dtype='object')"
      ]
     },
     "execution_count": 6,
     "metadata": {},
     "output_type": "execute_result"
    }
   ],
   "source": [
    "df_output.columns"
   ]
  },
  {
   "cell_type": "code",
   "execution_count": 12,
   "metadata": {},
   "outputs": [
    {
     "data": {
      "text/plain": [
       "str"
      ]
     },
     "execution_count": 12,
     "metadata": {},
     "output_type": "execute_result"
    }
   ],
   "source": [
    "\n",
    "type(df_output['createdDate'][0])"
   ]
  },
  {
   "cell_type": "code",
   "execution_count": null,
   "metadata": {},
   "outputs": [],
   "source": []
  }
 ],
 "metadata": {
  "interpreter": {
   "hash": "b3ba2566441a7c06988d0923437866b63cedc61552a5af99d1f4fb67d367b25f"
  },
  "kernelspec": {
   "display_name": "Python 3.8.8 64-bit ('base': conda)",
   "name": "python3"
  },
  "language_info": {
   "codemirror_mode": {
    "name": "ipython",
    "version": 3
   },
   "file_extension": ".py",
   "mimetype": "text/x-python",
   "name": "python",
   "nbconvert_exporter": "python",
   "pygments_lexer": "ipython3",
   "version": "3.8.8"
  }
 },
 "nbformat": 4,
 "nbformat_minor": 5
}
